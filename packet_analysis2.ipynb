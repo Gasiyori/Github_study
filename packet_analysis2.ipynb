{
 "cells": [
  {
   "cell_type": "code",
   "execution_count": 1,
   "id": "5f7883f1",
   "metadata": {},
   "outputs": [],
   "source": [
    "import pandas as pd\n",
    "import numpy as np"
   ]
  },
  {
   "cell_type": "code",
   "execution_count": 2,
   "id": "d357c47b",
   "metadata": {},
   "outputs": [],
   "source": [
    "packet_distance = ['22.5m', '23.4m', '23.85m', '24.3m', '24.75m', '25.2m', '25.65m', '26.1m',\n",
    "                   '26.55m', '27m']"
   ]
  },
  {
   "cell_type": "code",
   "execution_count": 3,
   "id": "d3d9d188",
   "metadata": {},
   "outputs": [],
   "source": [
    "packet_distance_name = ['22_5m', '23_4m', '23_85m', '24_3m', '24_75m', '25_2m', '25_65m', '26_1m',\n",
    "                   '26_55m', '27m']\n",
    "# 문자열 리스트 하나로 만드는게 빠르긴 할 것 같다_\n",
    "# 그대로 하면 뒤쪽에서 오류나기 때문에 리스트명 생성을 위해 언더바로 대체 리스트\n",
    "\n",
    "packet_bytes = [10, 114] #20-110byte까지"
   ]
  },
  {
   "cell_type": "code",
   "execution_count": 4,
   "id": "cab5afa2",
   "metadata": {
    "scrolled": true
   },
   "outputs": [
    {
     "data": {
      "text/plain": [
       "['22.5m',\n",
       " '23.4m',\n",
       " '23.85m',\n",
       " '24.3m',\n",
       " '24.75m',\n",
       " '25.2m',\n",
       " '25.65m',\n",
       " '26.1m',\n",
       " '26.55m',\n",
       " '27m']"
      ]
     },
     "execution_count": 4,
     "metadata": {},
     "output_type": "execute_result"
    }
   ],
   "source": [
    "packet_distance"
   ]
  },
  {
   "cell_type": "code",
   "execution_count": 5,
   "id": "b0f3dc45",
   "metadata": {
    "scrolled": true
   },
   "outputs": [
    {
     "data": {
      "text/plain": [
       "['22_5m',\n",
       " '23_4m',\n",
       " '23_85m',\n",
       " '24_3m',\n",
       " '24_75m',\n",
       " '25_2m',\n",
       " '25_65m',\n",
       " '26_1m',\n",
       " '26_55m',\n",
       " '27m']"
      ]
     },
     "execution_count": 5,
     "metadata": {},
     "output_type": "execute_result"
    }
   ],
   "source": [
    "packet_distance_name"
   ]
  },
  {
   "cell_type": "code",
   "execution_count": 6,
   "id": "9aab4423",
   "metadata": {
    "scrolled": true
   },
   "outputs": [
    {
     "data": {
      "text/plain": [
       "[10, 114]"
      ]
     },
     "execution_count": 6,
     "metadata": {},
     "output_type": "execute_result"
    }
   ],
   "source": [
    "packet_bytes"
   ]
  },
  {
   "cell_type": "code",
   "execution_count": 7,
   "id": "c2b6451a",
   "metadata": {},
   "outputs": [],
   "source": [
    "packet_bytes_list = ['20bytes', '114bytes']"
   ]
  },
  {
   "cell_type": "code",
   "execution_count": 8,
   "id": "a12c9385",
   "metadata": {},
   "outputs": [],
   "source": [
    "for i in packet_bytes:\n",
    "    for j, k in zip(packet_distance, packet_distance_name):\n",
    "        globals()['log_' + str(i) + 'bytes_distance_' + str(k)] = pd.read_csv('./log2/' + str(i) + 'bytes_distance_' + str(j) +'.log', \n",
    "                                                                                  delimiter=',', names=[\"Time\",\"Id\",\"Type\", \"Data\",\n",
    "                                                                                                        \"Start delimiter\", \"Length\",\n",
    "                                                                                                        \"Frame type\", \"16-bit source address\",\n",
    "                                                                                                        \"RSSI\", \"Options\", \"RF data\", \"Checksum\"])"
   ]
  },
  {
   "cell_type": "code",
   "execution_count": 9,
   "id": "b739e79f",
   "metadata": {},
   "outputs": [
    {
     "data": {
      "text/plain": [
       "24"
      ]
     },
     "execution_count": 9,
     "metadata": {},
     "output_type": "execute_result"
    }
   ],
   "source": [
    "whole_packet = 500\n",
    "\n",
    "missed_packet = whole_packet - log_10bytes_distance_22_5m.shape[0]\n",
    "missed_packet"
   ]
  },
  {
   "cell_type": "code",
   "execution_count": 10,
   "id": "1f082646",
   "metadata": {
    "scrolled": true
   },
   "outputs": [
    {
     "data": {
      "text/plain": [
       "0.048"
      ]
     },
     "execution_count": 10,
     "metadata": {},
     "output_type": "execute_result"
    }
   ],
   "source": [
    "# abnormal_packet_rate = (missed_packet + log_20_4_5[log_20_4_5[\"Length\"] != 25].shape[0]) / whole_packet\n",
    "\n",
    "abnormal_packet_rate = missed_packet / whole_packet\n",
    "\n",
    "abnormal_packet_rate"
   ]
  },
  {
   "cell_type": "code",
   "execution_count": 11,
   "id": "2ba94d76",
   "metadata": {},
   "outputs": [],
   "source": [
    "def func(x):\n",
    "    return int(x, 16)"
   ]
  },
  {
   "cell_type": "code",
   "execution_count": 12,
   "id": "e711a9ce",
   "metadata": {},
   "outputs": [],
   "source": [
    "import sys\n",
    "mod = sys.modules[__name__]\n",
    "\n",
    "# eval('log_' + str(i) + 'bytes_distance_' + str(j))\n",
    "\n",
    "for i in packet_bytes:\n",
    "    for j in packet_distance_name:\n",
    "        if not globals()['log_' + str(i) + 'bytes_distance_' + str(j)].empty: #비어있는 데이터가 아니면 적절히 처리\n",
    "            globals()['log_' + str(i) + 'bytes_distance_' + str(j)] = globals()['log_' + str(i) + 'bytes_distance_' + str(j)].drop(index = 0, axis = 0)\n",
    "            globals()['log_' + str(i) + 'bytes_distance_' + str(j)].set_index(\"Id\", inplace=True)\n",
    "            \n",
    "            #패킷 헤더 규격에 맞게 분리\n",
    "            globals()['log_' + str(i) + 'bytes_distance_' + str(j)][\"Start delimiter\"] = globals()['log_' + str(i) + 'bytes_distance_' + str(j)].Data.str[:2]\n",
    "            globals()['log_' + str(i) + 'bytes_distance_' + str(j)][\"Length\"] = globals()['log_' + str(i) + 'bytes_distance_' + str(j)].Data.str[2:6]\n",
    "            globals()['log_' + str(i) + 'bytes_distance_' + str(j)][\"Frame type\"] = globals()['log_' + str(i) + 'bytes_distance_' + str(j)].Data.str[6:8]\n",
    "            globals()['log_' + str(i) + 'bytes_distance_' + str(j)][\"16-bit source address\"] = globals()['log_' + str(i) + 'bytes_distance_' + str(j)].Data.str[8:12]\n",
    "            globals()['log_' + str(i) + 'bytes_distance_' + str(j)][\"RSSI\"] = globals()['log_' + str(i) + 'bytes_distance_' + str(j)].Data.str[12:14]\n",
    "            globals()['log_' + str(i) + 'bytes_distance_' + str(j)][\"Options\"] = globals()['log_' + str(i) + 'bytes_distance_' + str(j)].Data.str[14:16]\n",
    "            globals()['log_' + str(i) + 'bytes_distance_' + str(j)][\"RF data\"] = globals()['log_' + str(i) + 'bytes_distance_' + str(j)].Data.str[16:-2]\n",
    "            globals()['log_' + str(i) + 'bytes_distance_' + str(j)][\"Checksum\"] = globals()['log_' + str(i) + 'bytes_distance_' + str(j)].Data.str[-2:]\n",
    "            \n",
    "            #필요없는 기존 데이터 처리\n",
    "            globals()['log_' + str(i) + 'bytes_distance_' + str(j)] = globals()['log_' + str(i) + 'bytes_distance_' + str(j)].drop(columns = \"Data\")\n",
    "            \n",
    "            #Length 16진수>>10진수 변환\n",
    "            globals()['log_' + str(i) + 'bytes_distance_' + str(j)][\"Length\"] = globals()['log_' + str(i) + 'bytes_distance_' + str(j)][\"Length\"].apply(func)"
   ]
  },
  {
   "cell_type": "code",
   "execution_count": 13,
   "id": "701fe3d4",
   "metadata": {
    "scrolled": true
   },
   "outputs": [
    {
     "data": {
      "text/plain": [
       "['22.5m',\n",
       " '23.4m',\n",
       " '23.85m',\n",
       " '24.3m',\n",
       " '24.75m',\n",
       " '25.2m',\n",
       " '25.65m',\n",
       " '26.1m',\n",
       " '26.55m',\n",
       " '27m']"
      ]
     },
     "execution_count": 13,
     "metadata": {},
     "output_type": "execute_result"
    }
   ],
   "source": [
    "packet_distance"
   ]
  },
  {
   "cell_type": "code",
   "execution_count": 14,
   "id": "d02d897c",
   "metadata": {},
   "outputs": [],
   "source": [
    "packet_table = pd.DataFrame({'22.5m':['0', '0']})\n",
    "packet_table['23.4m'] = ['0', '0']\n",
    "packet_table['23.85m'] = ['0', '0']\n",
    "packet_table['24.3m'] = ['0', '0']\n",
    "packet_table['24.75m'] = ['0', '0']\n",
    "packet_table['25.2m'] = ['0', '0']\n",
    "packet_table['25.65m'] = ['0', '0']\n",
    "packet_table['26.1m'] = ['0', '0']\n",
    "packet_table['26.55m'] = ['0', '0']\n",
    "packet_table['27m'] = ['0', '0']\n",
    "\n",
    "packet_table.index = ['20bytes', '114bytes']"
   ]
  },
  {
   "cell_type": "code",
   "execution_count": 15,
   "id": "13937476",
   "metadata": {},
   "outputs": [
    {
     "data": {
      "text/html": [
       "<div>\n",
       "<style scoped>\n",
       "    .dataframe tbody tr th:only-of-type {\n",
       "        vertical-align: middle;\n",
       "    }\n",
       "\n",
       "    .dataframe tbody tr th {\n",
       "        vertical-align: top;\n",
       "    }\n",
       "\n",
       "    .dataframe thead th {\n",
       "        text-align: right;\n",
       "    }\n",
       "</style>\n",
       "<table border=\"1\" class=\"dataframe\">\n",
       "  <thead>\n",
       "    <tr style=\"text-align: right;\">\n",
       "      <th></th>\n",
       "      <th>22.5m</th>\n",
       "      <th>23.4m</th>\n",
       "      <th>23.85m</th>\n",
       "      <th>24.3m</th>\n",
       "      <th>24.75m</th>\n",
       "      <th>25.2m</th>\n",
       "      <th>25.65m</th>\n",
       "      <th>26.1m</th>\n",
       "      <th>26.55m</th>\n",
       "      <th>27m</th>\n",
       "    </tr>\n",
       "  </thead>\n",
       "  <tbody>\n",
       "    <tr>\n",
       "      <th>20bytes</th>\n",
       "      <td>0</td>\n",
       "      <td>0</td>\n",
       "      <td>0</td>\n",
       "      <td>0</td>\n",
       "      <td>0</td>\n",
       "      <td>0</td>\n",
       "      <td>0</td>\n",
       "      <td>0</td>\n",
       "      <td>0</td>\n",
       "      <td>0</td>\n",
       "    </tr>\n",
       "    <tr>\n",
       "      <th>114bytes</th>\n",
       "      <td>0</td>\n",
       "      <td>0</td>\n",
       "      <td>0</td>\n",
       "      <td>0</td>\n",
       "      <td>0</td>\n",
       "      <td>0</td>\n",
       "      <td>0</td>\n",
       "      <td>0</td>\n",
       "      <td>0</td>\n",
       "      <td>0</td>\n",
       "    </tr>\n",
       "  </tbody>\n",
       "</table>\n",
       "</div>"
      ],
      "text/plain": [
       "         22.5m 23.4m 23.85m 24.3m 24.75m 25.2m 25.65m 26.1m 26.55m 27m\n",
       "20bytes      0     0      0     0      0     0      0     0      0   0\n",
       "114bytes     0     0      0     0      0     0      0     0      0   0"
      ]
     },
     "execution_count": 15,
     "metadata": {},
     "output_type": "execute_result"
    }
   ],
   "source": [
    "packet_table"
   ]
  },
  {
   "cell_type": "code",
   "execution_count": 16,
   "id": "76c64642",
   "metadata": {},
   "outputs": [],
   "source": [
    "prr_table = packet_table.copy()"
   ]
  },
  {
   "cell_type": "code",
   "execution_count": 17,
   "id": "468d2de5",
   "metadata": {},
   "outputs": [
    {
     "name": "stdout",
     "output_type": "stream",
     "text": [
      "10, 22_5m\n",
      "25\n",
      "0.05\n",
      "2000000.0\n",
      "10, 23_4m\n",
      "126\n",
      "0.252\n",
      "2540106.9518716577\n",
      "10, 23_85m\n",
      "30\n",
      "0.06\n",
      "2021276.595744681\n",
      "10, 24_3m\n",
      "77\n",
      "0.154\n",
      "2245862.8841607566\n",
      "10, 24_75m\n",
      "415\n",
      "0.83\n",
      "11176470.58823529\n",
      "10, 25_2m\n",
      "453\n",
      "0.906\n",
      "20212765.957446814\n",
      "10, 25_65m\n",
      "73\n",
      "0.146\n",
      "2224824.355971897\n",
      "10, 26_1m\n",
      "108\n",
      "0.216\n",
      "2423469.387755102\n",
      "10, 26_55m\n",
      "114\n",
      "0.228\n",
      "2461139.896373057\n",
      "114, 22_5m\n",
      "59\n",
      "0.118\n",
      "1223296.3360782908\n",
      "114, 23_4m\n",
      "54\n",
      "0.108\n",
      "1209582.2515931083\n",
      "114, 23_85m\n",
      "55\n",
      "0.11\n",
      "1212300.413956239\n",
      "114, 24_3m\n",
      "63\n",
      "0.126\n",
      "1234493.5565458268\n",
      "114, 24_75m\n",
      "464\n",
      "0.928\n",
      "14985380.116959073\n",
      "114, 25_2m\n",
      "463\n",
      "0.926\n",
      "14580369.843527747\n",
      "114, 25_65m\n",
      "468\n",
      "0.936\n",
      "16858552.63157896\n",
      "114, 26_1m\n",
      "488\n",
      "0.976\n",
      "44956140.35087715\n",
      "114, 26_55m\n",
      "488\n",
      "0.976\n",
      "44956140.35087715\n"
     ]
    }
   ],
   "source": [
    "import math\n",
    "\n",
    "for i, k in zip(packet_bytes, packet_bytes_list):\n",
    "    for j, m in zip(packet_distance_name, packet_distance): #거리 목록, 분할 바이트 수\n",
    "        if not globals()['log_' + str(i) + 'bytes_distance_' + str(j)].empty: \n",
    "            print(f\"{i}, {j}\") #디버깅용\n",
    "            send_data = 1000000\n",
    "            whole_packet = 500 #몇 번 보냈는가?\n",
    "            \n",
    "            missed_packet = whole_packet - globals()['log_' + str(i) + 'bytes_distance_' + str(j)].shape[0] #누락 패킷 탐지\n",
    "            print(missed_packet) #누락 패킷 개수\n",
    "    \n",
    "#             abnormal_packet_rate = (missed_packet + len(globals()['log_' + str(i) + 'byte_distance_' + str(j)][\"Length\"][globals()['log_' + str(i) + 'byte_distance_' + str(j)][\"Length\"] != int(i) + 5])) / whole_packet\n",
    "            #비정상 패킷 비율 = (누락 패킷 + 길이가 다른 수신 패킷) / 전체 패킷\n",
    "    \n",
    "            abnormal_packet_rate = missed_packet / whole_packet\n",
    "            #비정상 패킷 비율 = 누락 패킷 / 전체 패킷\n",
    "            #prr = 1 - 비정상 패킷 비율\n",
    "            print(abnormal_packet_rate)\n",
    "            \n",
    "            prr_table[m][k] = 1 - abnormal_packet_rate\n",
    "            #prr 테이블 갱신                        \n",
    "#             total_send = math.ceil((send_data / int(i)) + (send_data / int(i)) * abnormal_packet_rate)\n",
    "\n",
    "            #((페이로드 + 헤더) * (전체 바이트 / 페이로드)) / PRR        \n",
    "            total_send = ((i + 9) * (send_data / i)) / (1 - abnormal_packet_rate)\n",
    "            print(total_send)\n",
    "            \n",
    "            globals()['log_' + str(i) + 'bytes_distance_' + str(j)][\"RSSI\"] = globals()['log_' + str(i) + 'bytes_distance_' + str(j)][\"RSSI\"].apply(func)\n",
    "            # RSSI의 쉬운 계산을 위해 16진수에서 10진수로 변환\n",
    "        \n",
    "            packet_table[m][k] = total_send\n",
    "            # 총 전송 데이터 크기 테이블 갱신\n",
    "        \n",
    "        else:  #만약 0인 경우?\n",
    "            packet_table[m][k] = None\n",
    "            prr_table[m][k] = None"
   ]
  },
  {
   "cell_type": "markdown",
   "id": "6fda34e8",
   "metadata": {},
   "source": [
    "((114 + 9) * (1000000/114)) / PRR\n",
    "\n",
    "((페이로드 + 헤더) * (전체 바이트 / 페이로드)) / PRR"
   ]
  },
  {
   "cell_type": "markdown",
   "id": "cf8b442f",
   "metadata": {},
   "source": [
    "# PRR 테이블\n",
    "\n",
    "뭔가 이상한데"
   ]
  },
  {
   "cell_type": "code",
   "execution_count": 18,
   "id": "f9ec417f",
   "metadata": {
    "scrolled": true
   },
   "outputs": [
    {
     "data": {
      "text/html": [
       "<div>\n",
       "<style scoped>\n",
       "    .dataframe tbody tr th:only-of-type {\n",
       "        vertical-align: middle;\n",
       "    }\n",
       "\n",
       "    .dataframe tbody tr th {\n",
       "        vertical-align: top;\n",
       "    }\n",
       "\n",
       "    .dataframe thead th {\n",
       "        text-align: right;\n",
       "    }\n",
       "</style>\n",
       "<table border=\"1\" class=\"dataframe\">\n",
       "  <thead>\n",
       "    <tr style=\"text-align: right;\">\n",
       "      <th></th>\n",
       "      <th>22.5m</th>\n",
       "      <th>23.4m</th>\n",
       "      <th>23.85m</th>\n",
       "      <th>24.3m</th>\n",
       "      <th>24.75m</th>\n",
       "      <th>25.2m</th>\n",
       "      <th>25.65m</th>\n",
       "      <th>26.1m</th>\n",
       "      <th>26.55m</th>\n",
       "      <th>27m</th>\n",
       "    </tr>\n",
       "  </thead>\n",
       "  <tbody>\n",
       "    <tr>\n",
       "      <th>20bytes</th>\n",
       "      <td>0.95</td>\n",
       "      <td>0.748</td>\n",
       "      <td>0.94</td>\n",
       "      <td>0.846</td>\n",
       "      <td>0.17</td>\n",
       "      <td>0.094</td>\n",
       "      <td>0.854</td>\n",
       "      <td>0.784</td>\n",
       "      <td>0.772</td>\n",
       "      <td>None</td>\n",
       "    </tr>\n",
       "    <tr>\n",
       "      <th>114bytes</th>\n",
       "      <td>0.882</td>\n",
       "      <td>0.892</td>\n",
       "      <td>0.89</td>\n",
       "      <td>0.874</td>\n",
       "      <td>0.072</td>\n",
       "      <td>0.074</td>\n",
       "      <td>0.064</td>\n",
       "      <td>0.024</td>\n",
       "      <td>0.024</td>\n",
       "      <td>None</td>\n",
       "    </tr>\n",
       "  </tbody>\n",
       "</table>\n",
       "</div>"
      ],
      "text/plain": [
       "          22.5m  23.4m 23.85m  24.3m 24.75m  25.2m 25.65m  26.1m 26.55m   27m\n",
       "20bytes    0.95  0.748   0.94  0.846   0.17  0.094  0.854  0.784  0.772  None\n",
       "114bytes  0.882  0.892   0.89  0.874  0.072  0.074  0.064  0.024  0.024  None"
      ]
     },
     "execution_count": 18,
     "metadata": {},
     "output_type": "execute_result"
    }
   ],
   "source": [
    "prr_table"
   ]
  },
  {
   "cell_type": "markdown",
   "id": "dde87a0f",
   "metadata": {},
   "source": [
    "# 재전송을 포함한 전체 데이터 크기\n",
    "\n",
    "1,000,000bytes의 데이터를 보낼 때 10bytes, 114bytes로 분할"
   ]
  },
  {
   "cell_type": "code",
   "execution_count": 19,
   "id": "0db4098a",
   "metadata": {},
   "outputs": [
    {
     "data": {
      "text/html": [
       "<div>\n",
       "<style scoped>\n",
       "    .dataframe tbody tr th:only-of-type {\n",
       "        vertical-align: middle;\n",
       "    }\n",
       "\n",
       "    .dataframe tbody tr th {\n",
       "        vertical-align: top;\n",
       "    }\n",
       "\n",
       "    .dataframe thead th {\n",
       "        text-align: right;\n",
       "    }\n",
       "</style>\n",
       "<table border=\"1\" class=\"dataframe\">\n",
       "  <thead>\n",
       "    <tr style=\"text-align: right;\">\n",
       "      <th></th>\n",
       "      <th>22.5m</th>\n",
       "      <th>23.4m</th>\n",
       "      <th>23.85m</th>\n",
       "      <th>24.3m</th>\n",
       "      <th>24.75m</th>\n",
       "      <th>25.2m</th>\n",
       "      <th>25.65m</th>\n",
       "      <th>26.1m</th>\n",
       "      <th>26.55m</th>\n",
       "      <th>27m</th>\n",
       "    </tr>\n",
       "  </thead>\n",
       "  <tbody>\n",
       "    <tr>\n",
       "      <th>20bytes</th>\n",
       "      <td>2000000.0</td>\n",
       "      <td>2540106.951872</td>\n",
       "      <td>2021276.595745</td>\n",
       "      <td>2245862.884161</td>\n",
       "      <td>11176470.588235</td>\n",
       "      <td>20212765.957447</td>\n",
       "      <td>2224824.355972</td>\n",
       "      <td>2423469.387755</td>\n",
       "      <td>2461139.896373</td>\n",
       "      <td>None</td>\n",
       "    </tr>\n",
       "    <tr>\n",
       "      <th>114bytes</th>\n",
       "      <td>1223296.336078</td>\n",
       "      <td>1209582.251593</td>\n",
       "      <td>1212300.413956</td>\n",
       "      <td>1234493.556546</td>\n",
       "      <td>14985380.116959</td>\n",
       "      <td>14580369.843528</td>\n",
       "      <td>16858552.631579</td>\n",
       "      <td>44956140.350877</td>\n",
       "      <td>44956140.350877</td>\n",
       "      <td>None</td>\n",
       "    </tr>\n",
       "  </tbody>\n",
       "</table>\n",
       "</div>"
      ],
      "text/plain": [
       "                   22.5m           23.4m          23.85m           24.3m  \\\n",
       "20bytes        2000000.0  2540106.951872  2021276.595745  2245862.884161   \n",
       "114bytes  1223296.336078  1209582.251593  1212300.413956  1234493.556546   \n",
       "\n",
       "                   24.75m            25.2m           25.65m            26.1m  \\\n",
       "20bytes   11176470.588235  20212765.957447   2224824.355972   2423469.387755   \n",
       "114bytes  14985380.116959  14580369.843528  16858552.631579  44956140.350877   \n",
       "\n",
       "                   26.55m   27m  \n",
       "20bytes    2461139.896373  None  \n",
       "114bytes  44956140.350877  None  "
      ]
     },
     "execution_count": 19,
     "metadata": {},
     "output_type": "execute_result"
    }
   ],
   "source": [
    "packet_table"
   ]
  },
  {
   "cell_type": "code",
   "execution_count": 20,
   "id": "6de29d90",
   "metadata": {},
   "outputs": [],
   "source": [
    "import math\n",
    "\n",
    "RSSI_mean_list = []\n",
    "\n",
    "RSSI_mean_list_temp = []\n",
    "RSSI_max_list_temp = []\n",
    "RSSI_min_list_temp = []\n",
    "\n",
    "RSSI_min_max_list = []\n",
    "\n",
    "for j, m in zip(packet_distance_name, packet_distance): #거리 목록, 분할 바이트 수\n",
    "    for i, k in zip(packet_bytes, packet_bytes_list):\n",
    "        if not globals()['log_' + str(i) + 'bytes_distance_' + str(j)].empty: \n",
    "\n",
    "            RSSI_max_list_temp.append(globals()['log_' + str(i) + 'bytes_distance_' + str(j)][\"RSSI\"].max())\n",
    "            RSSI_min_list_temp.append(globals()['log_' + str(i) + 'bytes_distance_' + str(j)][\"RSSI\"].min())\n",
    "            RSSI_mean_list_temp.append(globals()['log_' + str(i) + 'bytes_distance_' + str(j)][\"RSSI\"].mean())\n",
    "    \n",
    "    if not globals()['log_' + str(i) + 'bytes_distance_' + str(j)].empty: \n",
    "\n",
    "        RSSI_mean_list.append(np.mean(RSSI_mean_list_temp)) #평균\n",
    "        RSSI_mean_list_temp = []\n",
    "        RSSI_min_max_list.append(str(min(RSSI_min_list_temp)) + ' ~ ' + str(max(RSSI_max_list_temp)))\n",
    "\n",
    "        RSSI_max_list_temp = []\n",
    "        RSSI_min_list_temp = []"
   ]
  },
  {
   "cell_type": "code",
   "execution_count": 21,
   "id": "7545405a",
   "metadata": {},
   "outputs": [],
   "source": [
    "RSSI_mean_list.append(0)\n",
    "RSSI_min_max_list.append(0)"
   ]
  },
  {
   "cell_type": "markdown",
   "id": "2175e6ba",
   "metadata": {
    "scrolled": true
   },
   "source": [
    "# RSSI 최소-최대, 평균, 거리가 포함된 PRR 테이블"
   ]
  },
  {
   "cell_type": "code",
   "execution_count": 22,
   "id": "f86a10d1",
   "metadata": {},
   "outputs": [],
   "source": [
    "prr_table\n",
    "\n",
    "prr_table.columns = pd.MultiIndex.from_tuples(\n",
    "    zip(RSSI_min_max_list, np.round(RSSI_mean_list, 3), prr_table.columns))\n",
    "\n",
    "prr_table.style.set_properties(**{'text-align': 'right'}) #columns 보기 쉽게 정렬\n",
    "\n",
    "pd.options.display.float_format = '{:.3f}'.format #소수점 아래 3자리까지만"
   ]
  },
  {
   "cell_type": "code",
   "execution_count": 23,
   "id": "f385aafb",
   "metadata": {},
   "outputs": [
    {
     "name": "stdout",
     "output_type": "stream",
     "text": [
      "['20bytes', '114bytes']\n",
      "[10, 114]\n"
     ]
    }
   ],
   "source": [
    "print(packet_bytes_list)\n",
    "print(packet_bytes)"
   ]
  },
  {
   "cell_type": "code",
   "execution_count": 24,
   "id": "e157ae1d",
   "metadata": {},
   "outputs": [
    {
     "data": {
      "text/html": [
       "<div>\n",
       "<style scoped>\n",
       "    .dataframe tbody tr th:only-of-type {\n",
       "        vertical-align: middle;\n",
       "    }\n",
       "\n",
       "    .dataframe tbody tr th {\n",
       "        vertical-align: top;\n",
       "    }\n",
       "\n",
       "    .dataframe thead tr th {\n",
       "        text-align: left;\n",
       "    }\n",
       "</style>\n",
       "<table border=\"1\" class=\"dataframe\">\n",
       "  <thead>\n",
       "    <tr>\n",
       "      <th></th>\n",
       "      <th>81 ~ 85</th>\n",
       "      <th>81 ~ 93</th>\n",
       "      <th>81 ~ 86</th>\n",
       "      <th>84 ~ 91</th>\n",
       "      <th>80 ~ 90</th>\n",
       "      <th>89 ~ 93</th>\n",
       "      <th>86 ~ 94</th>\n",
       "      <th>87 ~ 94</th>\n",
       "      <th>89 ~ 92</th>\n",
       "      <th>0</th>\n",
       "    </tr>\n",
       "    <tr>\n",
       "      <th></th>\n",
       "      <th>84.837</th>\n",
       "      <th>88.210</th>\n",
       "      <th>84.190</th>\n",
       "      <th>86.818</th>\n",
       "      <th>87.523</th>\n",
       "      <th>92.320</th>\n",
       "      <th>88.634</th>\n",
       "      <th>90.768</th>\n",
       "      <th>91.166</th>\n",
       "      <th>0.000</th>\n",
       "    </tr>\n",
       "    <tr>\n",
       "      <th></th>\n",
       "      <th>22.5m</th>\n",
       "      <th>23.4m</th>\n",
       "      <th>23.85m</th>\n",
       "      <th>24.3m</th>\n",
       "      <th>24.75m</th>\n",
       "      <th>25.2m</th>\n",
       "      <th>25.65m</th>\n",
       "      <th>26.1m</th>\n",
       "      <th>26.55m</th>\n",
       "      <th>27m</th>\n",
       "    </tr>\n",
       "  </thead>\n",
       "  <tbody>\n",
       "    <tr>\n",
       "      <th>20bytes</th>\n",
       "      <td>0.950</td>\n",
       "      <td>0.748</td>\n",
       "      <td>0.940</td>\n",
       "      <td>0.846</td>\n",
       "      <td>0.170</td>\n",
       "      <td>0.094</td>\n",
       "      <td>0.854</td>\n",
       "      <td>0.784</td>\n",
       "      <td>0.772</td>\n",
       "      <td>None</td>\n",
       "    </tr>\n",
       "    <tr>\n",
       "      <th>114bytes</th>\n",
       "      <td>0.882</td>\n",
       "      <td>0.892</td>\n",
       "      <td>0.890</td>\n",
       "      <td>0.874</td>\n",
       "      <td>0.072</td>\n",
       "      <td>0.074</td>\n",
       "      <td>0.064</td>\n",
       "      <td>0.024</td>\n",
       "      <td>0.024</td>\n",
       "      <td>None</td>\n",
       "    </tr>\n",
       "  </tbody>\n",
       "</table>\n",
       "</div>"
      ],
      "text/plain": [
       "         81 ~ 85 81 ~ 93 81 ~ 86 84 ~ 91 80 ~ 90 89 ~ 93 86 ~ 94 87 ~ 94  \\\n",
       "          84.837  88.210  84.190  86.818  87.523  92.320  88.634  90.768   \n",
       "           22.5m   23.4m  23.85m   24.3m  24.75m   25.2m  25.65m   26.1m   \n",
       "20bytes    0.950   0.748   0.940   0.846   0.170   0.094   0.854   0.784   \n",
       "114bytes   0.882   0.892   0.890   0.874   0.072   0.074   0.064   0.024   \n",
       "\n",
       "         89 ~ 92      0  \n",
       "          91.166 0.000   \n",
       "          26.55m    27m  \n",
       "20bytes    0.772   None  \n",
       "114bytes   0.024   None  "
      ]
     },
     "execution_count": 24,
     "metadata": {},
     "output_type": "execute_result"
    }
   ],
   "source": [
    "prr_table"
   ]
  },
  {
   "cell_type": "markdown",
   "id": "a85e8d32",
   "metadata": {},
   "source": [
    "# 헤더를 포함한 전체 전송 바이트"
   ]
  },
  {
   "cell_type": "code",
   "execution_count": 25,
   "id": "19b654b7",
   "metadata": {
    "scrolled": true
   },
   "outputs": [
    {
     "data": {
      "text/html": [
       "<div>\n",
       "<style scoped>\n",
       "    .dataframe tbody tr th:only-of-type {\n",
       "        vertical-align: middle;\n",
       "    }\n",
       "\n",
       "    .dataframe tbody tr th {\n",
       "        vertical-align: top;\n",
       "    }\n",
       "\n",
       "    .dataframe thead th {\n",
       "        text-align: right;\n",
       "    }\n",
       "</style>\n",
       "<table border=\"1\" class=\"dataframe\">\n",
       "  <thead>\n",
       "    <tr style=\"text-align: right;\">\n",
       "      <th></th>\n",
       "      <th>22.5m</th>\n",
       "      <th>23.4m</th>\n",
       "      <th>23.85m</th>\n",
       "      <th>24.3m</th>\n",
       "      <th>24.75m</th>\n",
       "      <th>25.2m</th>\n",
       "      <th>25.65m</th>\n",
       "      <th>26.1m</th>\n",
       "      <th>26.55m</th>\n",
       "      <th>27m</th>\n",
       "    </tr>\n",
       "  </thead>\n",
       "  <tbody>\n",
       "    <tr>\n",
       "      <th>20bytes</th>\n",
       "      <td>2000000.000</td>\n",
       "      <td>2540106.952</td>\n",
       "      <td>2021276.596</td>\n",
       "      <td>2245862.884</td>\n",
       "      <td>11176470.588</td>\n",
       "      <td>20212765.957</td>\n",
       "      <td>2224824.356</td>\n",
       "      <td>2423469.388</td>\n",
       "      <td>2461139.896</td>\n",
       "      <td>None</td>\n",
       "    </tr>\n",
       "    <tr>\n",
       "      <th>114bytes</th>\n",
       "      <td>1223296.336</td>\n",
       "      <td>1209582.252</td>\n",
       "      <td>1212300.414</td>\n",
       "      <td>1234493.557</td>\n",
       "      <td>14985380.117</td>\n",
       "      <td>14580369.844</td>\n",
       "      <td>16858552.632</td>\n",
       "      <td>44956140.351</td>\n",
       "      <td>44956140.351</td>\n",
       "      <td>None</td>\n",
       "    </tr>\n",
       "  </tbody>\n",
       "</table>\n",
       "</div>"
      ],
      "text/plain": [
       "               22.5m       23.4m      23.85m       24.3m       24.75m  \\\n",
       "20bytes  2000000.000 2540106.952 2021276.596 2245862.884 11176470.588   \n",
       "114bytes 1223296.336 1209582.252 1212300.414 1234493.557 14985380.117   \n",
       "\n",
       "                25.2m       25.65m        26.1m       26.55m   27m  \n",
       "20bytes  20212765.957  2224824.356  2423469.388  2461139.896  None  \n",
       "114bytes 14580369.844 16858552.632 44956140.351 44956140.351  None  "
      ]
     },
     "execution_count": 25,
     "metadata": {},
     "output_type": "execute_result"
    }
   ],
   "source": [
    "packet_table"
   ]
  },
  {
   "cell_type": "markdown",
   "id": "a75941e0",
   "metadata": {},
   "source": [
    "((114 + 9) * (1000000/114)) / PRR\n",
    "\n",
    "((페이로드 + 헤더) * (전체 바이트 / 페이로드)) / PRR"
   ]
  },
  {
   "cell_type": "markdown",
   "id": "cd21ba9b",
   "metadata": {},
   "source": [
    "# 정리\n",
    "\n",
    "'Design and Implementation of (OTA in Arduino for IoT~~~~~') <br>\n",
    "(~~의 설계와 구현)\n",
    "\n",
    "---\n",
    "\n",
    "Introduct...\n",
    "\n",
    "동기, 어려움 등..\n",
    "\n",
    "---\n",
    "\n",
    "기존 문제점\n",
    "\n",
    "1. 아두이노에서 1홉 OTA 업데이트를 지원하지만 다중 홉에서는 지원하지 않는다.\n",
    "2. 추가 에너지 소모 고려 X\n",
    "3. 다른 OTA... << 채널 상태 미고려\n",
    "\n",
    "---\n",
    "\n",
    "채널 상태를 고려한 다중 홉에서의 OTA 제안(설계)하고 구현한다.\n",
    "\n",
    "---\n",
    "\n",
    "1.\n",
    "\n",
    "플로우 차트..\n",
    "\n",
    "차별성 강조..\n",
    "\n",
    "deluge...\n",
    "\n",
    "\n",
    "\n",
    "2. 패킷 고정 분할 크기를 RSSI를 고려하여"
   ]
  }
 ],
 "metadata": {
  "kernelspec": {
   "display_name": "Python 3 (ipykernel)",
   "language": "python",
   "name": "python3"
  },
  "language_info": {
   "codemirror_mode": {
    "name": "ipython",
    "version": 3
   },
   "file_extension": ".py",
   "mimetype": "text/x-python",
   "name": "python",
   "nbconvert_exporter": "python",
   "pygments_lexer": "ipython3",
   "version": "3.8.12"
  }
 },
 "nbformat": 4,
 "nbformat_minor": 5
}
